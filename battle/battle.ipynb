{
 "cells": [
  {
   "cell_type": "code",
   "execution_count": 79,
   "metadata": {
    "collapsed": true
   },
   "outputs": [],
   "source": [
    "import random\n",
    "import subprocess\n",
    "import json\n",
    "import numpy as np\n",
    "from tqdm import tqdm\n",
    "import time\n",
    "import os"
   ]
  },
  {
   "cell_type": "code",
   "execution_count": 80,
   "metadata": {
    "collapsed": true
   },
   "outputs": [],
   "source": [
    "# Print win records between matches\n",
    "PRINT_PROGRESS = False"
   ]
  },
  {
   "cell_type": "code",
   "execution_count": 81,
   "metadata": {
    "collapsed": true
   },
   "outputs": [],
   "source": [
    "# read in ai bot file names\n",
    "ais = os.listdir('./models')\n",
    "ais = [ai for ai in ais if ai.endswith('.h5')]\n",
    "# how many ai models\n",
    "num_versions = len(ais)"
   ]
  },
  {
   "cell_type": "code",
   "execution_count": 82,
   "metadata": {},
   "outputs": [],
   "source": [
    "bots = list(filter(lambda b:b.endswith('.py'), os.listdir('../bots')))\n",
    "for file in bots:\n",
    "    if file.endswith('.py'):\n",
    "        os.rename('../bots/'+file, '../bots/'+file.replace(' ',''))\n",
    "\n",
    "if len(ais)>len(list(filter(lambda b:b.startswith('MyBot') and b.endswith(').py'), bots))):\n",
    "    raise Exception('Check number of ai\\'s vs MyBot files')"
   ]
  },
  {
   "cell_type": "code",
   "execution_count": 83,
   "metadata": {
    "collapsed": true
   },
   "outputs": [],
   "source": [
    "# list of enemy bot files to choose from\n",
    "bot_list = []"
   ]
  },
  {
   "cell_type": "code",
   "execution_count": 84,
   "metadata": {
    "collapsed": true
   },
   "outputs": [],
   "source": [
    "bot_list.extend([\n",
    "    \"mining\",\"mining\",\"mining\",\n",
    "    \"mine_attack\", \"mine_attack\",\"mine_attack\",\"mine_attack\",\n",
    "    \"aggressive\", \"aggressive\",\"aggressive\",\"aggressive\",\n",
    "    \"mine_attack_later\", \"mine_attack_later\",\"mine_attack_later\",\"mine_attack_later\",\n",
    "    ])"
   ]
  },
  {
   "cell_type": "code",
   "execution_count": 85,
   "metadata": {
    "collapsed": true
   },
   "outputs": [],
   "source": [
    "bot_list.extend([\n",
    "    \"random0\",\"random0\",\n",
    "    \"random1\",\"random1\",\n",
    "    \"random3\",\"random3\",\n",
    "    \"random5\",\"random5\",\n",
    "    \"random10\",\"random10\",\n",
    "    \"random15\",\"random15\",\n",
    "    \"random20\",\"random20\",\n",
    "    ])"
   ]
  },
  {
   "cell_type": "code",
   "execution_count": 86,
   "metadata": {
    "collapsed": true
   },
   "outputs": [],
   "source": [
    "# track wins per ai model\n",
    "wins = dict({i:0 for i in list(range(num_versions))+list(set(bot_list))})\n",
    "# track matches per ai model\n",
    "num = dict({i:0 for i in list(range(num_versions))+list(set(bot_list))})"
   ]
  },
  {
   "cell_type": "code",
   "execution_count": 87,
   "metadata": {
    "collapsed": true
   },
   "outputs": [],
   "source": [
    "def print_progress():\n",
    "    out = ''\n",
    "    for idx, i in enumerate(ai_versions+list(set(bot_list))):\n",
    "        if np.mod(idx,4)==0:\n",
    "            out += '\\n'\n",
    "        try:\n",
    "            out += '{}:{}/{}={}%\\t'.format(i,wins[i],num[i],round(100*wins[i]/num[i],1))\n",
    "        except ZeroDivisionError:\n",
    "            out += '{}:{}/0=0%\\t'.format(i,wins[i])\n",
    "    tqdm.write(out)"
   ]
  },
  {
   "cell_type": "code",
   "execution_count": 88,
   "metadata": {
    "collapsed": true
   },
   "outputs": [],
   "source": [
    "def cleanup():\n",
    "    files = os.listdir('.')\n",
    "    for file in files:\n",
    "        if file.endswith('.vec') or file.endswith('.log'):\n",
    "            os.remove(file)"
   ]
  },
  {
   "cell_type": "code",
   "execution_count": null,
   "metadata": {
    "scrolled": true
   },
   "outputs": [
    {
     "name": "stderr",
     "output_type": "stream",
     "text": [
      "\n",
      "  0%|                                                                                          | 0/100 [00:00<?, ?it/s]\n",
      " 64%|██████████████████████████████████████████████████▌                            | 64/100 [1:16:10<39:47, 66.33s/it]"
     ]
    }
   ],
   "source": [
    "# run number of matches or until stop.txt exists (whichever happens first)\n",
    "for m in tqdm(range(100)):\n",
    "    g2g = False\n",
    "    \n",
    "    while not g2g:\n",
    "        # build player list for the match\n",
    "        cmd = 'halite.exe'\n",
    "        # store enemy type ('na' or ai version)\n",
    "        enemy_version = []\n",
    "        # list of ai versions to choose from\n",
    "        ai_versions = list(range(num_versions))\n",
    "        \n",
    "        # add 2 or 4 players\n",
    "        for _ in range(random.choice([2, 4])):\n",
    "            # randomly choose from from ai or botlist\n",
    "            enemy_version.append(random.choice(ai_versions+['na']*len(bot_list)))\n",
    "            \n",
    "            # build player into cmd string\n",
    "            if enemy_version[-1] == 'na':\n",
    "                # bot_list player\n",
    "                player = random.choice(bot_list)\n",
    "                cmd+=' \"python ../bots/{}.py\"'.format(player)\n",
    "                enemy_version[-1] = player\n",
    "                num[enemy_version[-1]] += 1\n",
    "            else:\n",
    "                # ai player\n",
    "                cmd+=' \"python ../bots/MyBot-Copy({}).py\"'.format(enemy_version[-1])\n",
    "                num[enemy_version[-1]] += 1\n",
    "                g2g = True\n",
    "        \n",
    "    cmd+=' -q -t --constantsfile \"constants.txt\"'\n",
    "    \n",
    "    # run match\n",
    "    result = subprocess.Popen(cmd, stdout=subprocess.PIPE, stderr=subprocess.STDOUT).stdout.read()\n",
    "    # translate results from json\n",
    "    try:\n",
    "        result = json.loads(result)\n",
    "    except:\n",
    "        print(result)\n",
    "        break\n",
    "    \n",
    "    # ignore matches where there's an error\n",
    "    if not len(result['error_logs']):\n",
    "        # sort players by rank\n",
    "        ranked = sorted(result['stats'].items(), key=lambda t:t[1]['rank'])\n",
    "        \n",
    "        # get best ranked player\n",
    "        for player in ranked:\n",
    "            winner_id = int(player[0])\n",
    "            winner = enemy_version[winner_id]\n",
    "            break\n",
    "        \n",
    "        ## filter winners\n",
    "        #if (isinstance(winner, str) and winner.startswith('random')) or isinstance(winner, int):\n",
    "        # get inputs\n",
    "        with open(\"{}_{}_input.vec\".format(winner_id, winner), \"r\") as f:\n",
    "            input_lines = f.readlines()\n",
    "\n",
    "        # get outputs\n",
    "        with open(\"{}_{}_out.vec\".format(winner_id, winner), \"r\") as f:\n",
    "            output_lines = f.readlines()\n",
    "\n",
    "        # check lengths, append to training data\n",
    "        if len(input_lines)==len(output_lines):\n",
    "            with open(\"train.in\", \"a\") as f:\n",
    "                for l in input_lines:\n",
    "                    f.write(l)\n",
    "            with open(\"train.out\", \"a\") as f:\n",
    "                for l in output_lines:\n",
    "                    f.write(l)\n",
    "        else:\n",
    "            print(result)\n",
    "            print(enemy_version)\n",
    "            print_progress()\n",
    "            raise('Bot data lengths do not match')\n",
    "        ## filter winners\n",
    "        #else:\n",
    "        os.remove(result['replay'])\n",
    "        \n",
    "        # track wins for winner\n",
    "        wins[winner] += 1\n",
    "        \n",
    "        # print as we go\n",
    "        if PRINT_PROGRESS:\n",
    "            tqdm.write('{} id {} won in {}'.format(winner, winner_id, enemy_version))\n",
    "            tqdm.write(result['replay'])\n",
    "            tqdm.write(\"\\nWins\")\n",
    "            print_progress()\n",
    "        \n",
    "        cleanup()\n",
    "        \n",
    "        if os.path.isfile('stop.txt'):\n",
    "            break\n",
    "    \n",
    "    else:\n",
    "        #cleanup()\n",
    "        \n",
    "        print(\"\\nWins\")\n",
    "        print_progress()\n",
    "        \n",
    "        print(result)\n",
    "        print(enemy_version)\n",
    "        print(result['replay'])\n",
    "        break\n",
    "    \n",
    "    time.sleep(1)\n",
    "    \n",
    "print('\\n\\n****** FINAL SCORES ******')\n",
    "print_progress()"
   ]
  },
  {
   "cell_type": "code",
   "execution_count": 67,
   "metadata": {},
   "outputs": [
    {
     "data": {
      "text/plain": [
       "'halite.exe \"python ../bots/random20.py\" \"python ../bots/MyBot-Copy(17).py\" \"python ../bots/MyBot-Copy(14).py\" \"python ../bots/MyBot-Copy(1).py\" -q --constantsfile \"constants.txt\"'"
      ]
     },
     "execution_count": 67,
     "metadata": {},
     "output_type": "execute_result"
    }
   ],
   "source": [
    "cmd"
   ]
  },
  {
   "cell_type": "code",
   "execution_count": null,
   "metadata": {
    "collapsed": true
   },
   "outputs": [],
   "source": []
  }
 ],
 "metadata": {
  "kernelspec": {
   "display_name": "Python 3",
   "language": "python",
   "name": "python3"
  },
  "language_info": {
   "codemirror_mode": {
    "name": "ipython",
    "version": 3
   },
   "file_extension": ".py",
   "mimetype": "text/x-python",
   "name": "python",
   "nbconvert_exporter": "python",
   "pygments_lexer": "ipython3",
   "version": "3.6.1"
  }
 },
 "nbformat": 4,
 "nbformat_minor": 2
}
