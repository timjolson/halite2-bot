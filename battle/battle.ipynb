{
 "cells": [
  {
   "cell_type": "code",
   "execution_count": null,
   "metadata": {
    "collapsed": true
   },
   "outputs": [],
   "source": [
    "import random, subprocess, json, time, os\n",
    "import numpy as np\n",
    "from tqdm import tqdm"
   ]
  },
  {
   "cell_type": "code",
   "execution_count": null,
   "metadata": {
    "collapsed": true
   },
   "outputs": [],
   "source": [
    "# number of matches to run\n",
    "num_matches = 3\n",
    "\n",
    "# Print win records between matches\n",
    "PRINT_PROGRESS = False"
   ]
  },
  {
   "cell_type": "code",
   "execution_count": null,
   "metadata": {
    "collapsed": true
   },
   "outputs": [],
   "source": [
    "# read in ai bot models to count them\n",
    "ais = os.listdir('./models')\n",
    "ais = [ai for ai in ais if ai.endswith('.h5')]\n",
    "\n",
    "# how many ai models\n",
    "num_versions = len(ais)\n",
    "ai_versions = list(range(num_versions))"
   ]
  },
  {
   "cell_type": "code",
   "execution_count": null,
   "metadata": {
    "collapsed": true
   },
   "outputs": [],
   "source": [
    "# list of non-ai enemy bots to choose from\n",
    "bot_list = []"
   ]
  },
  {
   "cell_type": "code",
   "execution_count": null,
   "metadata": {
    "collapsed": true
   },
   "outputs": [],
   "source": [
    "# add manually adjusted bots (quantity <> probability of use)\n",
    "bot_list.extend([\n",
    "    \"mining\",\"mining\",\"mining\",\n",
    "    \"mine_attack\", \"mine_attack\",\"mine_attack\",\"mine_attack\",\n",
    "    \"aggressive\", \"aggressive\",\"aggressive\",\"aggressive\",\n",
    "    \"mine_attack_later\", \"mine_attack_later\",\"mine_attack_later\",\"mine_attack_later\",\n",
    "    ])"
   ]
  },
  {
   "cell_type": "code",
   "execution_count": null,
   "metadata": {
    "collapsed": true
   },
   "outputs": [],
   "source": [
    "# add random bots (quantity <> probability of use)\n",
    "bot_list.extend([\n",
    "    \"random0\",\"random0\",\n",
    "    \"random1\",\"random1\",\n",
    "    \"random3\",\"random3\",\n",
    "    \"random5\",\"random5\",\n",
    "    \"random10\",\"random10\",\n",
    "    \"random15\",\"random15\",\n",
    "    \"random20\",\"random20\",\n",
    "    ])"
   ]
  },
  {
   "cell_type": "code",
   "execution_count": null,
   "metadata": {
    "collapsed": true
   },
   "outputs": [],
   "source": [
    "# load win records from file\n",
    "def load_wins(file='wins.txt'):\n",
    "    if os.path.isfile(file):\n",
    "        with open(file, 'r') as f:\n",
    "            lines = f.readlines()\n",
    "            wins = eval(lines[0])\n",
    "            num = eval(lines[1])\n",
    "    else:\n",
    "        # track wins per ai model\n",
    "        wins = dict({i:0 for i in list(range(num_versions))+list(set(bot_list))})\n",
    "        # track matches per ai model\n",
    "        num = dict({i:0 for i in list(range(num_versions))+list(set(bot_list))})\n",
    "    return wins, num\n",
    "\n",
    "# save win records to file\n",
    "def save_wins(file='wins.txt'):\n",
    "    with open(file, 'w') as f:\n",
    "        f.write(str(wins)+'\\n')\n",
    "        f.write(str(num)+'\\n')\n",
    "\n",
    "# load initially\n",
    "wins, num = load_wins()"
   ]
  },
  {
   "cell_type": "code",
   "execution_count": null,
   "metadata": {
    "collapsed": true
   },
   "outputs": [],
   "source": [
    "# clean up .log, .vec, and replay files\n",
    "def cleanup():\n",
    "    files = os.listdir('.')\n",
    "    for file in files:\n",
    "        if file.endswith('.vec') or file.endswith('.log') or file.startswith('replay'):\n",
    "            os.remove(file)"
   ]
  },
  {
   "cell_type": "code",
   "execution_count": null,
   "metadata": {
    "collapsed": true
   },
   "outputs": [],
   "source": [
    "# add training data to train.in, train.out\n",
    "def append_training(inputs, outputs):\n",
    "    # check lengths, append to training data\n",
    "    if len(input_lines)==len(output_lines):\n",
    "        with open(\"train.in\", \"a\") as f:\n",
    "            for l in input_lines:\n",
    "                f.write(l)\n",
    "        with open(\"train.out\", \"a\") as f:\n",
    "            for l in output_lines:\n",
    "                f.write(l)\n",
    "        return True\n",
    "    return False"
   ]
  },
  {
   "cell_type": "code",
   "execution_count": null,
   "metadata": {
    "collapsed": true
   },
   "outputs": [],
   "source": [
    "# read data from winner's .vec files\n",
    "def read_training(winner_id, winner):\n",
    "    # get inputs\n",
    "    with open(\"{}_{}_input.vec\".format(winner_id, winner), \"r\") as f:\n",
    "        input_lines = f.readlines()\n",
    "\n",
    "    # get outputs\n",
    "    with open(\"{}_{}_out.vec\".format(winner_id, winner), \"r\") as f:\n",
    "        output_lines = f.readlines()\n",
    "    \n",
    "    return input_lines, output_lines"
   ]
  },
  {
   "cell_type": "code",
   "execution_count": null,
   "metadata": {},
   "outputs": [],
   "source": [
    "# get string of bot win records for printing\n",
    "def progress():\n",
    "    out = ''\n",
    "    for idx, i in enumerate(ai_versions+list(set(bot_list))):\n",
    "        if np.mod(idx,4)==0:\n",
    "            out += '\\n'\n",
    "        try:\n",
    "            out += '{}:{}/{}={}%\\t'.format(i,wins[i],num[i],round(100*wins[i]/num[i],1))\n",
    "        except ZeroDivisionError:\n",
    "            out += '{}:{}/0=0%\\t'.format(i,wins[i])\n",
    "    return out"
   ]
  },
  {
   "cell_type": "code",
   "execution_count": null,
   "metadata": {
    "collapsed": true
   },
   "outputs": [],
   "source": [
    "# make command string to call the executable with bots\n",
    "def generate_cmd():\n",
    "    g2g = False  # g2g flag used to make sure there's at least 1 ai bot in each battle\n",
    "    \n",
    "    while not g2g:\n",
    "        # call the game executable\n",
    "        cmd = 'halite.exe'\n",
    "\n",
    "        # store enemy type (file name or ai version)\n",
    "        enemy_version = []\n",
    "\n",
    "        # list of ai versions to choose from\n",
    "        ai_versions = list(range(num_versions))\n",
    "        \n",
    "        # add 2 or 4 players\n",
    "        for _ in range(random.choice([2, 4])):\n",
    "            # randomly choose from from ai or botlist\n",
    "            enemy_version.append(random.choice(ai_versions+['na']*len(bot_list)))\n",
    "\n",
    "            # build player into cmd string\n",
    "            if enemy_version[-1] == 'na':\n",
    "                # bot_list player\n",
    "                player = random.choice(bot_list)  # choose from list\n",
    "                cmd+=' \"python ../bots/{}.py\"'.format(player)  # append player to cmd string\n",
    "                enemy_version[-1] = player  # record the bot\n",
    "            else:\n",
    "                # ai player\n",
    "                cmd+=' \"python ../bots/MyBot.py \"{}\"\"'.format(enemy_version[-1])\n",
    "                g2g = True\n",
    "    \n",
    "    # finish cmd string with custom game settings, no time-outs, and quite mode(required)\n",
    "    cmd+=' -q -t --constantsfile \"constants.txt\"'\n",
    "    \n",
    "    return cmd, enemy_version"
   ]
  },
  {
   "cell_type": "code",
   "execution_count": null,
   "metadata": {
    "scrolled": false
   },
   "outputs": [],
   "source": [
    "cleanup()\n",
    "wins, num = load_wins()\n",
    "\n",
    "# run number of matches or until stop.txt exists (whichever happens first)\n",
    "for m in tqdm(range(num_matches)):\n",
    "    # make command string to call the executable with bots\n",
    "    cmd, enemy_versions = generate_cmd()\n",
    "    \n",
    "    # run match\n",
    "    result = subprocess.Popen(cmd, stdout=subprocess.PIPE, stderr=subprocess.STDOUT).stdout.read()\n",
    "    # translate results from json\n",
    "    try:\n",
    "        result = json.loads(result)\n",
    "    except:\n",
    "        # cannot load as json\n",
    "        print(result)\n",
    "        break\n",
    "    \n",
    "    # ignore matches where there's an error\n",
    "    if not len(result['error_logs']):\n",
    "        # increment how many matches each bot has been in\n",
    "        for ev in enemy_versions:\n",
    "            num[ev] += 1\n",
    "        \n",
    "        # sort players by rank\n",
    "        ranked = sorted(result['stats'].items(), key=lambda t:t[1]['rank'])\n",
    "        \n",
    "        # get best ranked player\n",
    "        for player in ranked:\n",
    "            winner_id = int(player[0])\n",
    "            winner = enemy_versions[winner_id]\n",
    "            break\n",
    "        \n",
    "        # read winner's data\n",
    "        input_lines, output_lines = read_training(winner_id, winner)\n",
    "        \n",
    "        # check lengths, append to training data\n",
    "        if not append_training(input_lines, output_lines):\n",
    "            raise Exception('Training data lengths do not match')\n",
    "        \n",
    "        # increment wins for winner\n",
    "        wins[winner] += 1\n",
    "        \n",
    "        # print as we go\n",
    "        if PRINT_PROGRESS:\n",
    "            tqdm.write('{} id {} won in {}'.format(winner, winner_id, enemy_versions))\n",
    "            tqdm.write(result['replay'])\n",
    "            tqdm.write(\"\\nWins\"+progress())\n",
    "        \n",
    "        save_wins()\n",
    "        cleanup()\n",
    "        \n",
    "        # stop the loop externally\n",
    "        if os.path.isfile('stop.txt'):\n",
    "            break\n",
    "    \n",
    "    # if result['error_logs']:\n",
    "    else:\n",
    "        print(\"\\nWins\")\n",
    "        print_progress()\n",
    "        \n",
    "        print(result)\n",
    "        print(enemy_versions)\n",
    "        break\n",
    "    \n",
    "    time.sleep(0.5)\n",
    "    \n",
    "print('\\n****** FINAL SCORES ******')\n",
    "print(progress())"
   ]
  },
  {
   "cell_type": "code",
   "execution_count": null,
   "metadata": {
    "collapsed": true
   },
   "outputs": [],
   "source": []
  }
 ],
 "metadata": {
  "kernelspec": {
   "display_name": "Python 3",
   "language": "python",
   "name": "python3"
  },
  "language_info": {
   "codemirror_mode": {
    "name": "ipython",
    "version": 3
   },
   "file_extension": ".py",
   "mimetype": "text/x-python",
   "name": "python",
   "nbconvert_exporter": "python",
   "pygments_lexer": "ipython3",
   "version": "3.6.1"
  }
 },
 "nbformat": 4,
 "nbformat_minor": 2
}
