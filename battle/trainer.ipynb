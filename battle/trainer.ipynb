{
 "cells": [
  {
   "cell_type": "markdown",
   "metadata": {},
   "source": [
    "Notebook to manage keras models (loading, saving, training, etc.)"
   ]
  },
  {
   "cell_type": "code",
   "execution_count": 1,
   "metadata": {
    "scrolled": false
   },
   "outputs": [
    {
     "name": "stderr",
     "output_type": "stream",
     "text": [
      "C:\\ProgramData\\Anaconda3\\lib\\site-packages\\h5py\\__init__.py:36: FutureWarning: Conversion of the second argument of issubdtype from `float` to `np.floating` is deprecated. In future, it will be treated as `np.float64 == np.dtype(float).type`.\n",
      "  from ._conv import register_converters as _register_converters\n",
      "Using TensorFlow backend.\n"
     ]
    }
   ],
   "source": [
    "from manager import *"
   ]
  },
  {
   "cell_type": "markdown",
   "metadata": {},
   "source": [
    "***\n",
    "Generate Models"
   ]
  },
  {
   "cell_type": "code",
   "execution_count": null,
   "metadata": {
    "collapsed": true,
    "scrolled": true
   },
   "outputs": [],
   "source": [
    "#models = []"
   ]
  },
  {
   "cell_type": "code",
   "execution_count": null,
   "metadata": {
    "collapsed": true,
    "scrolled": true
   },
   "outputs": [],
   "source": [
    "#model = Sequential()\n",
    "#model.add(Dense(1024, input_shape=(31,)))\n",
    "#model.add(Activation('tanh')) # relu, elu, sigmoid\n",
    "#model.add(Dropout(0.5))\n",
    "#model.add(Dense(256))\n",
    "#model.add(Activation('tanh'))\n",
    "#model.add(Dropout(0.5))\n",
    "\n",
    "#model.add(Dense(5))\n",
    "\n",
    "#models.append(model)\n",
    "#models"
   ]
  },
  {
   "cell_type": "markdown",
   "metadata": {},
   "source": [
    "***\n",
    "Load models and their configs"
   ]
  },
  {
   "cell_type": "code",
   "execution_count": 2,
   "metadata": {
    "scrolled": true
   },
   "outputs": [
    {
     "name": "stdout",
     "output_type": "stream",
     "text": [
      "Loading models from ./untrained/\n"
     ]
    },
    {
     "name": "stderr",
     "output_type": "stream",
     "text": [
      "100%|██████████████████████████████████████████████████████████████████████████████████| 19/19 [00:08<00:00,  2.34it/s]\n"
     ]
    }
   ],
   "source": [
    "#models, model_names, model_configs = load_models('./models/')\n",
    "models, model_names, model_configs = load_models('./untrained/')"
   ]
  },
  {
   "cell_type": "markdown",
   "metadata": {},
   "source": [
    "***\n",
    "Change output layer shape on each config"
   ]
  },
  {
   "cell_type": "code",
   "execution_count": null,
   "metadata": {
    "collapsed": true,
    "scrolled": true
   },
   "outputs": [],
   "source": [
    "#for model in tqdm(model_configs):\n",
    "#    model[-1]['config']['units']=6"
   ]
  },
  {
   "cell_type": "markdown",
   "metadata": {},
   "source": [
    "***\n",
    "Save out models"
   ]
  },
  {
   "cell_type": "code",
   "execution_count": 17,
   "metadata": {
    "scrolled": true
   },
   "outputs": [
    {
     "name": "stdout",
     "output_type": "stream",
     "text": [
      "Saving 15 models to ./models/\n"
     ]
    },
    {
     "name": "stderr",
     "output_type": "stream",
     "text": [
      "15it [00:11,  1.29it/s]\n"
     ]
    }
   ],
   "source": [
    "#models, model_names = save_models('./models/', models, model_names)\n",
    "models, model_names = save_models('./models/', models)"
   ]
  },
  {
   "cell_type": "markdown",
   "metadata": {},
   "source": [
    "***\n",
    "Filter duplicate configs"
   ]
  },
  {
   "cell_type": "code",
   "execution_count": null,
   "metadata": {
    "collapsed": true,
    "scrolled": false
   },
   "outputs": [],
   "source": [
    "#unique = get_unique_configs(models)\n",
    "unique = get_unique_configs(model_configs)  # faster, just compares dict's"
   ]
  },
  {
   "cell_type": "markdown",
   "metadata": {},
   "source": [
    "************\n",
    "Compile models"
   ]
  },
  {
   "cell_type": "code",
   "execution_count": 31,
   "metadata": {
    "scrolled": false
   },
   "outputs": [
    {
     "name": "stdout",
     "output_type": "stream",
     "text": [
      "Compiling 15 models\n"
     ]
    },
    {
     "name": "stderr",
     "output_type": "stream",
     "text": [
      "100%|██████████████████████████████████████████████████████████████████████████████████| 15/15 [00:02<00:00,  5.07it/s]\n"
     ]
    }
   ],
   "source": [
    "models = compile_models(model_configs)\n",
    "#models = compile_models(model_configs, './untrained/')\n",
    "#models = compile_models(models, './untrained/')"
   ]
  },
  {
   "cell_type": "markdown",
   "metadata": {},
   "source": [
    "***\n",
    "Load in training data from 'trainN.in' and 'trainN.out' (data formatted as lists or numpy arrays), for N in nums"
   ]
  },
  {
   "cell_type": "code",
   "execution_count": 3,
   "metadata": {
    "scrolled": false
   },
   "outputs": [
    {
     "name": "stdout",
     "output_type": "stream",
     "text": [
      "Loading [''] data sets from .\n"
     ]
    },
    {
     "name": "stderr",
     "output_type": "stream",
     "text": [
      "                                                                                                                       \r"
     ]
    },
    {
     "name": "stdout",
     "output_type": "stream",
     "text": [
      "Reading train.in\n"
     ]
    },
    {
     "name": "stderr",
     "output_type": "stream",
     "text": [
      "  0%|                                                                                            | 0/1 [00:00<?, ?it/s]\n",
      "  0%|                                                                                        | 0/83834 [00:00<?, ?it/s]\n",
      "  8%|█████▉                                                                    | 6770/83834 [00:00<00:01, 63040.03it/s]\n",
      " 16%|███████████▊                                                             | 13631/83834 [00:00<00:01, 61945.69it/s]\n",
      " 24%|█████████████████▍                                                       | 19993/83834 [00:00<00:01, 62141.05it/s]\n",
      " 32%|███████████████████████▋                                                 | 27220/83834 [00:00<00:00, 62361.39it/s]\n",
      " 40%|█████████████████████████████▏                                           | 33462/83834 [00:00<00:00, 62310.44it/s]\n",
      " 47%|██████████████████████████████████▋                                      | 39793/83834 [00:00<00:00, 62445.29it/s]\n",
      " 55%|████████████████████████████████████████▍                                | 46459/83834 [00:00<00:00, 62567.61it/s]\n",
      " 64%|██████████████████████████████████████████████▍                          | 53342/83834 [00:00<00:00, 62536.06it/s]\n",
      " 71%|███████████████████████████████████████████████████▊                     | 59521/83834 [00:00<00:00, 62200.06it/s]\n",
      " 78%|█████████████████████████████████████████████████████████                | 65488/83834 [00:01<00:00, 61351.20it/s]\n",
      " 85%|██████████████████████████████████████████████████████████████▎          | 71621/83834 [00:01<00:00, 61330.90it/s]\n",
      " 93%|███████████████████████████████████████████████████████████████████▊     | 77806/83834 [00:01<00:00, 61458.51it/s]\n",
      "                                                                                                                       \r"
     ]
    },
    {
     "name": "stdout",
     "output_type": "stream",
     "text": [
      "Reading train.out\n"
     ]
    },
    {
     "name": "stderr",
     "output_type": "stream",
     "text": [
      "  0%|                                                                                            | 0/1 [00:01<?, ?it/s]\n",
      "  0%|                                                                                        | 0/83834 [00:00<?, ?it/s]\n",
      " 18%|████████████▉                                                           | 15027/83834 [00:00<00:00, 142174.50it/s]\n",
      " 35%|████████████████████████▉                                               | 28972/83834 [00:00<00:00, 140164.69it/s]\n",
      " 56%|████████████████████████████████████████▏                               | 46767/83834 [00:00<00:00, 144405.37it/s]\n",
      " 77%|███████████████████████████████████████████████████████                 | 64151/83834 [00:00<00:00, 151451.56it/s]\n",
      " 99%|███████████████████████████████████████████████████████████████████████▏| 82816/83834 [00:00<00:00, 154396.06it/s]\n",
      "                                                                                                                       \r"
     ]
    },
    {
     "name": "stdout",
     "output_type": "stream",
     "text": [
      "Adding train.in\n"
     ]
    },
    {
     "name": "stderr",
     "output_type": "stream",
     "text": [
      "  0%|                                                                                            | 0/1 [00:02<?, ?it/s]\n",
      "  0%|                                                                                        | 0/83834 [00:00<?, ?it/s]\n",
      "                                                                                                                       \r"
     ]
    },
    {
     "name": "stdout",
     "output_type": "stream",
     "text": [
      "Adding train.out\n"
     ]
    },
    {
     "name": "stderr",
     "output_type": "stream",
     "text": [
      "  0%|                                                                                            | 0/1 [00:02<?, ?it/s]\n",
      "  0%|                                                                                        | 0/83834 [00:00<?, ?it/s]\n",
      "100%|████████████████████████████████████████████████████████████████████████████████████| 1/1 [00:02<00:00,  2.31s/it]\n"
     ]
    }
   ],
   "source": [
    "train_in, train_out = load_data_from_path('.', nums=[''])"
   ]
  },
  {
   "cell_type": "markdown",
   "metadata": {},
   "source": [
    "***\n",
    "Load generic data"
   ]
  },
  {
   "cell_type": "code",
   "execution_count": null,
   "metadata": {
    "collapsed": true,
    "scrolled": true
   },
   "outputs": [],
   "source": [
    "load_in, load_out = load_data('.', inputfile='train.in', outputfile='train.out')"
   ]
  },
  {
   "cell_type": "markdown",
   "metadata": {},
   "source": [
    "***\n",
    "Load in training data from numpy saved arrays"
   ]
  },
  {
   "cell_type": "code",
   "execution_count": 4,
   "metadata": {
    "scrolled": true
   },
   "outputs": [
    {
     "name": "stdout",
     "output_type": "stream",
     "text": [
      "Loading numpy arrays train_in.npy // train_out.npy from .\n",
      "input train_in.npy, length 643040\n",
      "output train_out.npy, length 643040\n"
     ]
    }
   ],
   "source": [
    "load_in, load_out = load_data_numpy('.')"
   ]
  },
  {
   "cell_type": "markdown",
   "metadata": {},
   "source": [
    "***\n",
    "Join data from different sources"
   ]
  },
  {
   "cell_type": "code",
   "execution_count": 5,
   "metadata": {
    "collapsed": true,
    "scrolled": true
   },
   "outputs": [],
   "source": [
    "train_in = concatenate((train_in, load_in))\n",
    "train_out = concatenate((train_out, load_out))"
   ]
  },
  {
   "cell_type": "markdown",
   "metadata": {},
   "source": [
    "***\n",
    "Shuffle data"
   ]
  },
  {
   "cell_type": "code",
   "execution_count": 6,
   "metadata": {
    "scrolled": true
   },
   "outputs": [
    {
     "name": "stdout",
     "output_type": "stream",
     "text": [
      "Shuffling data\n"
     ]
    },
    {
     "name": "stderr",
     "output_type": "stream",
     "text": [
      "100%|█████████████████████████████████████████████████████████████████████| 726874/726874 [00:00<00:00, 1194323.05it/s]\n"
     ]
    }
   ],
   "source": [
    "train_in, train_out = shuffle(train_in, train_out)"
   ]
  },
  {
   "cell_type": "markdown",
   "metadata": {},
   "source": [
    "***\n",
    "Save out data"
   ]
  },
  {
   "cell_type": "code",
   "execution_count": 7,
   "metadata": {
    "scrolled": true
   },
   "outputs": [
    {
     "name": "stdout",
     "output_type": "stream",
     "text": [
      "Saving out samples\n"
     ]
    }
   ],
   "source": [
    "save_data(train_in, train_out, 'train_in', 'train_out')"
   ]
  },
  {
   "cell_type": "markdown",
   "metadata": {},
   "source": [
    "***\n",
    "Delete used data files"
   ]
  },
  {
   "cell_type": "code",
   "execution_count": 8,
   "metadata": {
    "collapsed": true
   },
   "outputs": [],
   "source": [
    "import os\n",
    "os.remove('train.in')\n",
    "os.remove('train.out')"
   ]
  },
  {
   "cell_type": "markdown",
   "metadata": {},
   "source": [
    "***\n",
    "Split data into training and testing groups"
   ]
  },
  {
   "cell_type": "code",
   "execution_count": 9,
   "metadata": {
    "scrolled": true
   },
   "outputs": [
    {
     "name": "stdout",
     "output_type": "stream",
     "text": [
      "Splitting data\n",
      "Training on 2366 samples, testing on 118 samples\n"
     ]
    }
   ],
   "source": [
    "x_train, y_train, x_test, y_test = split_data(train_in, train_out)"
   ]
  },
  {
   "cell_type": "markdown",
   "metadata": {},
   "source": [
    "***\n",
    "Train models"
   ]
  },
  {
   "cell_type": "code",
   "execution_count": 9,
   "metadata": {
    "scrolled": true
   },
   "outputs": [
    {
     "name": "stderr",
     "output_type": "stream",
     "text": [
      "100%|███████████████████████████████████████████████████████████████████████████████| 19/19 [1:19:25<00:00, 110.43s/it]\n"
     ]
    }
   ],
   "source": [
    "models = train_models(models, train_in, train_out)"
   ]
  },
  {
   "cell_type": "markdown",
   "metadata": {},
   "source": [
    "***\n",
    "Evaluate models"
   ]
  },
  {
   "cell_type": "code",
   "execution_count": 7,
   "metadata": {
    "scrolled": true
   },
   "outputs": [
    {
     "name": "stderr",
     "output_type": "stream",
     "text": [
      "100%|██████████████████████████████████████████████████████████████████████████████████| 15/15 [00:00<00:00, 28.46it/s]\n"
     ]
    },
    {
     "data": {
      "text/plain": [
       "[[0.4467378854751587, 0.28951817750930786],\n",
       " [0.3983568549156189, 0.2464074343442917],\n",
       " [0.39542490243911743, 0.2628909647464752],\n",
       " [0.38892391324043274, 0.24344885349273682],\n",
       " [0.3944162130355835, 0.2628909647464752],\n",
       " [0.39815303683280945, 0.2628909647464752],\n",
       " [0.38815221190452576, 0.27007606625556946],\n",
       " [0.4266776740550995, 0.2358410805463791],\n",
       " [0.40844449400901794, 0.3068470060825348],\n",
       " [0.4317014217376709, 0.2734573185443878],\n",
       " [0.4442233145236969, 0.2755705714225769],\n",
       " [0.40282607078552246, 0.31910398602485657],\n",
       " [0.42976853251457214, 0.24175824224948883],\n",
       " [0.44891563057899475, 0.28064242005348206],\n",
       " [0.4178844094276428, 0.2628909647464752]]"
      ]
     },
     "execution_count": 7,
     "metadata": {},
     "output_type": "execute_result"
    }
   ],
   "source": [
    "eval_models(models, train_in, train_out)"
   ]
  },
  {
   "cell_type": "markdown",
   "metadata": {},
   "source": [
    "***\n",
    "Train and eval"
   ]
  },
  {
   "cell_type": "code",
   "execution_count": 10,
   "metadata": {
    "scrolled": false
   },
   "outputs": [
    {
     "name": "stdout",
     "output_type": "stream",
     "text": [
      "Training and evaluating models\n"
     ]
    },
    {
     "name": "stderr",
     "output_type": "stream",
     "text": [
      "100%|██████████████████████████████████████████████████████████████████████████████████| 15/15 [00:01<00:00,  6.39it/s]\n",
      "100%|█████████████████████████████████████████████████████████████████████████████████| 15/15 [00:00<00:00, 262.99it/s]\n"
     ]
    }
   ],
   "source": [
    "models, scores = train_and_eval(models, x_train, y_train, x_test, y_test, epochs=1)"
   ]
  },
  {
   "cell_type": "markdown",
   "metadata": {},
   "source": [
    "***\n",
    "Save out models"
   ]
  },
  {
   "cell_type": "code",
   "execution_count": 10,
   "metadata": {
    "scrolled": true
   },
   "outputs": [
    {
     "name": "stdout",
     "output_type": "stream",
     "text": [
      "Saving 19 models to ./models/\n"
     ]
    },
    {
     "name": "stderr",
     "output_type": "stream",
     "text": [
      "19it [00:09,  2.43it/s]\n"
     ]
    }
   ],
   "source": [
    "models, model_names = save_models('./models/', models)\n",
    "#models, model_names = save_models('./models/', models)"
   ]
  },
  {
   "cell_type": "code",
   "execution_count": null,
   "metadata": {
    "collapsed": true
   },
   "outputs": [],
   "source": []
  }
 ],
 "metadata": {
  "kernelspec": {
   "display_name": "Python 3",
   "language": "python",
   "name": "python3"
  },
  "language_info": {
   "codemirror_mode": {
    "name": "ipython",
    "version": 3
   },
   "file_extension": ".py",
   "mimetype": "text/x-python",
   "name": "python",
   "nbconvert_exporter": "python",
   "pygments_lexer": "ipython3",
   "version": "3.6.1"
  }
 },
 "nbformat": 4,
 "nbformat_minor": 2
}
